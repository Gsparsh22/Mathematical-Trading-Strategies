{
 "cells": [
  {
   "cell_type": "code",
   "execution_count": 1,
   "id": "67578716",
   "metadata": {},
   "outputs": [],
   "source": [
    "import numpy as np\n",
    "import pandas as pd\n",
    "import yfinance as yf"
   ]
  },
  {
   "cell_type": "code",
   "execution_count": 2,
   "id": "c6453e06",
   "metadata": {},
   "outputs": [],
   "source": [
    "data=[None]*50\n",
    "\n",
    "def calculate_metrics(index,i):\n",
    "    index_data = yf.download(index, start='2010-01-01', end='2023-05-01')\n",
    "    index_close_prices = index_data['Close']\n",
    "    index_daily_returns = index_close_prices.pct_change()\n",
    "    index_volatility = np.sqrt(252) * index_daily_returns.std()\n",
    "    index_cumulative_returns = (1 + index_daily_returns).cumprod() - 1\n",
    "    index_cumulative_return_mean = index_cumulative_returns.mean()\n",
    "    index_roll_max = index_close_prices.cummax()\n",
    "    index_daily_drawdown = index_close_prices / index_roll_max - 1\n",
    "    index_max_drawdown = index_daily_drawdown.cummin()\n",
    "    risk_free = 0.0\n",
    "    index_sharpe_ratio = np.sqrt(252) * ((index_daily_returns.mean() - risk_free) / index_daily_returns.std())\n",
    "    index_downside_returns = index_daily_returns[index_daily_returns < 0]\n",
    "    index_sortino_ratio = np.sqrt(252) * ((index_daily_returns.mean() - risk_free) / index_downside_returns.std())\n",
    "    \n",
    "    data[i*5+0]=index_cumulative_returns.mean()\n",
    "    data[i*5+1]=index_volatility\n",
    "    data[i*5+2]=index_sharpe_ratio\n",
    "    data[i*5+3]=index_sortino_ratio\n",
    "    data[i*5+4]=index_max_drawdown.mean()\n",
    "\n"
   ]
  },
  {
   "cell_type": "code",
   "execution_count": 3,
   "id": "26099977",
   "metadata": {},
   "outputs": [
    {
     "name": "stderr",
     "output_type": "stream",
     "text": [
      "[*********************100%%**********************]  1 of 1 completed\n",
      "[*********************100%%**********************]  1 of 1 completed\n",
      "[*********************100%%**********************]  1 of 1 completed\n",
      "[*********************100%%**********************]  1 of 1 completed\n",
      "[*********************100%%**********************]  1 of 1 completed\n"
     ]
    },
    {
     "name": "stdout",
     "output_type": "stream",
     "text": [
      "Indices                 GSPC               FTSE 100           Nikkei 225              NDX          Hang Seng Index\n",
      "Cumulative returns 1.1546364997572929 0.20477227028719022 0.7296327658240322 0.3263534496993798 0.09035524614973077\n",
      "Volatility         0.1776071235545577 0.16251517394788506 0.20827710311813896 0.30266358911565705 0.20207910000938045\n",
      "Sharpe Ratio       0.6407634304606435 0.2468203015103944 0.47444285113044027 0.508557618660375 0.06581845571535926\n",
      "Sortiono Ratio     0.7844535881965932 0.31877956792946915 0.6473772466817252 0.6676078804551746 0.09433835709605538\n",
      "Max Drawdown       -0.2212938790712713 -0.23517375807096427 -0.27825337899905195 -0.29305645113697953 -0.33870475154848184\n"
     ]
    },
    {
     "name": "stderr",
     "output_type": "stream",
     "text": [
      "[*********************100%%**********************]  1 of 1 completed\n",
      "[*********************100%%**********************]  1 of 1 completed\n",
      "[*********************100%%**********************]  1 of 1 completed\n",
      "[*********************100%%**********************]  1 of 1 completed\n",
      "[*********************100%%**********************]  1 of 1 completed"
     ]
    },
    {
     "name": "stdout",
     "output_type": "stream",
     "text": [
      "Equity                 APPLE               MICROSOFT           AMAZON              GOOGLE          TESLA\n",
      "Cumulative returns 6.033525979962781 2.3625488355873974 7.943646929794658 2.2106113234493354 37.76509575473287\n",
      "Volatility         0.28615967782170726 0.2616767875604266 0.3317989428965108 0.2729762706976209 0.5738070034042114\n",
      "Sharpe Ratio       0.9579760853312563 0.790447018897123 0.7902636489869485 0.6657471347330978 0.9161881845071591\n",
      "Sortiono Ratio     1.340108820409712 1.1068365902917414 1.1284989544839086 0.9299480203497368 1.340564761336996\n",
      "Max Drawdown       -0.3736148582996798 -0.2691835162908344 -0.317460601874658 -0.3057933831649353 -0.4780141298840033\n"
     ]
    },
    {
     "name": "stderr",
     "output_type": "stream",
     "text": [
      "\n"
     ]
    }
   ],
   "source": [
    "\n",
    "calculate_metrics(\"^GSPC\",0)\n",
    "calculate_metrics(\"^FTSE\",1)\n",
    "calculate_metrics(\"^N225\",2)\n",
    "calculate_metrics(\"NDX\",3)\n",
    "calculate_metrics(\"^HSI\",4)\n",
    "\n",
    "print(\"Indices                 GSPC               FTSE 100           Nikkei 225              NDX          Hang Seng Index\")\n",
    "print(\"Cumulative returns\",data[0],data[5],data[10],data[15],data[20])\n",
    "print(\"Volatility        \",data[1],data[6],data[11],data[16],data[21])\n",
    "print(\"Sharpe Ratio      \",data[2],data[7],data[12],data[17],data[22])\n",
    "print(\"Sortiono Ratio    \",data[3],data[8],data[13],data[18],data[23])\n",
    "print(\"Max Drawdown      \",data[4],data[9],data[14],data[19],data[24])\n",
    "\n",
    "calculate_metrics(\"AAPL\",5)\n",
    "calculate_metrics(\"MSFT\",6)\n",
    "calculate_metrics(\"AMZN\",7)\n",
    "calculate_metrics(\"GOOGL\",8)\n",
    "calculate_metrics(\"TSLA\",9)\n",
    "\n",
    "print(\"Equity                 APPLE               MICROSOFT           AMAZON              GOOGLE          TESLA\")\n",
    "print(\"Cumulative returns\",data[25],data[30],data[35],data[40],data[45])\n",
    "print(\"Volatility        \",data[26],data[31],data[36],data[41],data[46])\n",
    "print(\"Sharpe Ratio      \",data[27],data[32],data[37],data[42],data[47])\n",
    "print(\"Sortiono Ratio    \",data[28],data[33],data[38],data[43],data[48])\n",
    "print(\"Max Drawdown      \",data[29],data[34],data[39],data[44],data[49])"
   ]
  },
  {
   "cell_type": "code",
   "execution_count": 4,
   "id": "a871114b",
   "metadata": {},
   "outputs": [],
   "source": [
    "def calculate_list(index):\n",
    "\n",
    "    index_data = yf.download(index, start='2010-01-01', end='2023-05-01')\n",
    "    \n",
    "    index_close_prices = index_data['Close']\n",
    "    \n",
    "    index_daily_returns = index_close_prices.pct_change().dropna()\n",
    "    \n",
    "    index_volatility = np.sqrt(252) * index_daily_returns.std()\n",
    "    \n",
    "    index_cumulative_returns = (1 + index_daily_returns).cumprod().dropna() - 1\n",
    "    index_cumulative_return_mean = index_cumulative_returns.mean()\n",
    "    \n",
    "    index_roll_max = index_close_prices.cummax()\n",
    "    index_daily_drawdown = index_close_prices / index_roll_max - 1\n",
    "    index_max_drawdown = index_daily_drawdown.cummin()\n",
    "    \n",
    "    risk_free = 0.0\n",
    "    \n",
    "    sharpe_ratio = np.sqrt(252) * (index_daily_returns.mean() - risk_free) / index_daily_returns.std()\n",
    "    \n",
    "    index_downside_returns = index_daily_returns[index_daily_returns < 0]\n",
    "    sortino_ratio = np.sqrt(252) * (index_daily_returns.mean() - risk_free) / index_downside_returns.std()\n",
    "    \n",
    "    print(\"\\n\\n\\n\", index, \":\\n\")\n",
    "    print(\"Daily Returns:\")\n",
    "    print(index_daily_returns.tail())\n",
    "    print(\"\\nVolatility:\", index_volatility)\n",
    "    print(\"\\nCumulative Returns:\")\n",
    "    print(index_cumulative_returns.tail())\n",
    "    print(\"\\nMean Cumulative Return:\", index_cumulative_return_mean)\n",
    "    print(\"\\nMax Drawdown:\")\n",
    "    print(index_max_drawdown.tail())\n",
    "    print(\"\\nSharpe Ratio:\")\n",
    "    print(sharpe_ratio)\n",
    "    print(\"\\nSortino Ratio:\")\n",
    "    print(sortino_ratio)\n",
    "\n"
   ]
  },
  {
   "cell_type": "code",
   "execution_count": 5,
   "id": "b7c1d727",
   "metadata": {},
   "outputs": [
    {
     "name": "stderr",
     "output_type": "stream",
     "text": [
      "[*********************100%%**********************]  1 of 1 completed"
     ]
    },
    {
     "name": "stdout",
     "output_type": "stream",
     "text": [
      "\n",
      "\n",
      "\n",
      " ^GSPC :\n",
      "\n",
      "Daily Returns:\n",
      "Date\n",
      "2023-04-24    0.000852\n",
      "2023-04-25   -0.015811\n",
      "2023-04-26   -0.003841\n",
      "2023-04-27    0.019566\n",
      "2023-04-28    0.008253\n",
      "Name: Close, dtype: float64\n",
      "\n",
      "Volatility: 0.1776071235545577\n",
      "\n",
      "Cumulative Returns:\n",
      "Date\n",
      "2023-04-24    2.651436\n",
      "2023-04-25    2.593703\n",
      "2023-04-26    2.579899\n",
      "2023-04-27    2.649944\n",
      "2023-04-28    2.680068\n",
      "Name: Close, dtype: float64\n",
      "\n",
      "Mean Cumulative Return: 1.1546364997572929\n",
      "\n",
      "Max Drawdown:\n",
      "Date\n",
      "2023-04-24   -0.33925\n",
      "2023-04-25   -0.33925\n",
      "2023-04-26   -0.33925\n",
      "2023-04-27   -0.33925\n",
      "2023-04-28   -0.33925\n",
      "Name: Close, dtype: float64\n",
      "\n",
      "Sharpe Ratio:\n",
      "0.6407634304606434\n",
      "\n",
      "Sortino Ratio:\n",
      "0.7844535881965933\n"
     ]
    },
    {
     "name": "stderr",
     "output_type": "stream",
     "text": [
      "\n"
     ]
    }
   ],
   "source": [
    "calculate_list(\"^GSPC\")"
   ]
  },
  {
   "cell_type": "code",
   "execution_count": 6,
   "id": "a91809c0",
   "metadata": {},
   "outputs": [
    {
     "name": "stderr",
     "output_type": "stream",
     "text": [
      "[*********************100%%**********************]  1 of 1 completed"
     ]
    },
    {
     "name": "stdout",
     "output_type": "stream",
     "text": [
      "\n",
      "\n",
      "\n",
      " ^FTSE :\n",
      "\n",
      "Daily Returns:\n",
      "Date\n",
      "2023-04-24   -0.000240\n",
      "2023-04-25   -0.002667\n",
      "2023-04-26   -0.004879\n",
      "2023-04-27   -0.002674\n",
      "2023-04-28    0.004980\n",
      "Name: Close, dtype: float64\n",
      "\n",
      "Volatility: 0.16251517394788506\n",
      "\n",
      "Cumulative Returns:\n",
      "Date\n",
      "2023-04-24    0.438503\n",
      "2023-04-25    0.434667\n",
      "2023-04-26    0.427668\n",
      "2023-04-27    0.423850\n",
      "2023-04-28    0.430940\n",
      "Name: Close, dtype: float64\n",
      "\n",
      "Mean Cumulative Return: 0.20477227028719022\n",
      "\n",
      "Max Drawdown:\n",
      "Date\n",
      "2023-04-24   -0.366055\n",
      "2023-04-25   -0.366055\n",
      "2023-04-26   -0.366055\n",
      "2023-04-27   -0.366055\n",
      "2023-04-28   -0.366055\n",
      "Name: Close, dtype: float64\n",
      "\n",
      "Sharpe Ratio:\n",
      "0.24682030151039439\n",
      "\n",
      "Sortino Ratio:\n",
      "0.3187795679294691\n"
     ]
    },
    {
     "name": "stderr",
     "output_type": "stream",
     "text": [
      "\n"
     ]
    }
   ],
   "source": [
    "calculate_list(\"^FTSE\")\n"
   ]
  },
  {
   "cell_type": "code",
   "execution_count": 7,
   "id": "2984dc29",
   "metadata": {},
   "outputs": [
    {
     "name": "stderr",
     "output_type": "stream",
     "text": [
      "[*********************100%%**********************]  1 of 1 completed"
     ]
    },
    {
     "name": "stdout",
     "output_type": "stream",
     "text": [
      "\n",
      "\n",
      "\n",
      " ^N225 :\n",
      "\n",
      "Daily Returns:\n",
      "Date\n",
      "2023-04-24    0.001021\n",
      "2023-04-25    0.000929\n",
      "2023-04-26   -0.007114\n",
      "2023-04-27    0.001450\n",
      "2023-04-28    0.014012\n",
      "Name: Close, dtype: float64\n",
      "\n",
      "Volatility: 0.20827710311813896\n",
      "\n",
      "Cumulative Returns:\n",
      "Date\n",
      "2023-04-24    1.683631\n",
      "2023-04-25    1.686122\n",
      "2023-04-26    1.667014\n",
      "2023-04-27    1.670881\n",
      "2023-04-28    1.708307\n",
      "Name: Close, dtype: float64\n",
      "\n",
      "Mean Cumulative Return: 0.7296327658240322\n",
      "\n",
      "Max Drawdown:\n",
      "Date\n",
      "2023-04-24   -0.317989\n",
      "2023-04-25   -0.317989\n",
      "2023-04-26   -0.317989\n",
      "2023-04-27   -0.317989\n",
      "2023-04-28   -0.317989\n",
      "Name: Close, dtype: float64\n",
      "\n",
      "Sharpe Ratio:\n",
      "0.4744428511304402\n",
      "\n",
      "Sortino Ratio:\n",
      "0.6473772466817252\n"
     ]
    },
    {
     "name": "stderr",
     "output_type": "stream",
     "text": [
      "\n"
     ]
    }
   ],
   "source": [
    "calculate_list(\"^N225\")"
   ]
  },
  {
   "cell_type": "code",
   "execution_count": 8,
   "id": "e220b6d1",
   "metadata": {},
   "outputs": [
    {
     "name": "stderr",
     "output_type": "stream",
     "text": [
      "[*********************100%%**********************]  1 of 1 completed"
     ]
    },
    {
     "name": "stdout",
     "output_type": "stream",
     "text": [
      "\n",
      "\n",
      "\n",
      " NDX :\n",
      "\n",
      "Daily Returns:\n",
      "Date\n",
      "2023-04-24   -0.002385\n",
      "2023-04-25   -0.018863\n",
      "2023-04-26    0.006394\n",
      "2023-04-27    0.027607\n",
      "2023-04-28    0.006532\n",
      "Name: Close, dtype: float64\n",
      "\n",
      "Volatility: 0.30266358911565705\n",
      "\n",
      "Cumulative Returns:\n",
      "Date\n",
      "2023-04-24    0.362676\n",
      "2023-04-25    0.336972\n",
      "2023-04-26    0.345521\n",
      "2023-04-27    0.382667\n",
      "2023-04-28    0.391698\n",
      "Name: Close, dtype: float64\n",
      "\n",
      "Mean Cumulative Return: 0.3263534496993798\n",
      "\n",
      "Max Drawdown:\n",
      "Date\n",
      "2023-04-24   -0.355631\n",
      "2023-04-25   -0.355631\n",
      "2023-04-26   -0.355631\n",
      "2023-04-27   -0.355631\n",
      "2023-04-28   -0.355631\n",
      "Name: Close, dtype: float64\n",
      "\n",
      "Sharpe Ratio:\n",
      "0.5085576186603749\n",
      "\n",
      "Sortino Ratio:\n",
      "0.6676078804551745\n"
     ]
    },
    {
     "name": "stderr",
     "output_type": "stream",
     "text": [
      "\n"
     ]
    }
   ],
   "source": [
    "calculate_list(\"NDX\")"
   ]
  },
  {
   "cell_type": "code",
   "execution_count": 9,
   "id": "9e5f6d0c",
   "metadata": {},
   "outputs": [
    {
     "name": "stderr",
     "output_type": "stream",
     "text": [
      "[*********************100%%**********************]  1 of 1 completed"
     ]
    },
    {
     "name": "stdout",
     "output_type": "stream",
     "text": [
      "\n",
      "\n",
      "\n",
      " ^HSI :\n",
      "\n",
      "Daily Returns:\n",
      "Date\n",
      "2023-04-24   -0.005768\n",
      "2023-04-25   -0.017137\n",
      "2023-04-26    0.007105\n",
      "2023-04-27    0.004201\n",
      "2023-04-28    0.002736\n",
      "Name: Close, dtype: float64\n",
      "\n",
      "Volatility: 0.20207910000938045\n",
      "\n",
      "Cumulative Returns:\n",
      "Date\n",
      "2023-04-24   -0.085383\n",
      "2023-04-25   -0.101057\n",
      "2023-04-26   -0.094670\n",
      "2023-04-27   -0.090866\n",
      "2023-04-28   -0.088379\n",
      "Name: Close, dtype: float64\n",
      "\n",
      "Mean Cumulative Return: 0.09035524614973076\n",
      "\n",
      "Max Drawdown:\n",
      "Date\n",
      "2023-04-24   -0.557008\n",
      "2023-04-25   -0.557008\n",
      "2023-04-26   -0.557008\n",
      "2023-04-27   -0.557008\n",
      "2023-04-28   -0.557008\n",
      "Name: Close, dtype: float64\n",
      "\n",
      "Sharpe Ratio:\n",
      "0.06581845571535926\n",
      "\n",
      "Sortino Ratio:\n",
      "0.09433835709605538\n"
     ]
    },
    {
     "name": "stderr",
     "output_type": "stream",
     "text": [
      "\n"
     ]
    }
   ],
   "source": [
    "calculate_list(\"^HSI\")"
   ]
  },
  {
   "cell_type": "code",
   "execution_count": 10,
   "id": "f94380f6",
   "metadata": {},
   "outputs": [
    {
     "name": "stderr",
     "output_type": "stream",
     "text": [
      "[*********************100%%**********************]  1 of 1 completed"
     ]
    },
    {
     "name": "stdout",
     "output_type": "stream",
     "text": [
      "\n",
      "\n",
      "\n",
      " AAPL :\n",
      "\n",
      "Daily Returns:\n",
      "Date\n",
      "2023-04-24    0.001879\n",
      "2023-04-25   -0.009436\n",
      "2023-04-26   -0.000061\n",
      "2023-04-27    0.028395\n",
      "2023-04-28    0.007541\n",
      "Name: Close, dtype: float64\n",
      "\n",
      "Volatility: 0.28615967782170726\n",
      "\n",
      "Cumulative Returns:\n",
      "Date\n",
      "2023-04-24    20.630952\n",
      "2023-04-25    20.426850\n",
      "2023-04-26    20.425540\n",
      "2023-04-27    21.033924\n",
      "2023-04-28    21.200083\n",
      "Name: Close, dtype: float64\n",
      "\n",
      "Mean Cumulative Return: 6.033525979962781\n",
      "\n",
      "Max Drawdown:\n",
      "Date\n",
      "2023-04-24   -0.443769\n",
      "2023-04-25   -0.443769\n",
      "2023-04-26   -0.443769\n",
      "2023-04-27   -0.443769\n",
      "2023-04-28   -0.443769\n",
      "Name: Close, dtype: float64\n",
      "\n",
      "Sharpe Ratio:\n",
      "0.9579760853312564\n",
      "\n",
      "Sortino Ratio:\n",
      "1.3401088204097122\n"
     ]
    },
    {
     "name": "stderr",
     "output_type": "stream",
     "text": [
      "\n"
     ]
    }
   ],
   "source": [
    "calculate_list(\"AAPL\")"
   ]
  },
  {
   "cell_type": "code",
   "execution_count": 11,
   "id": "65992dfa",
   "metadata": {},
   "outputs": [
    {
     "name": "stderr",
     "output_type": "stream",
     "text": [
      "[*********************100%%**********************]  1 of 1 completed"
     ]
    },
    {
     "name": "stdout",
     "output_type": "stream",
     "text": [
      "\n",
      "\n",
      "\n",
      " MSFT :\n",
      "\n",
      "Daily Returns:\n",
      "Date\n",
      "2023-04-24   -0.013963\n",
      "2023-04-25   -0.022536\n",
      "2023-04-26    0.072435\n",
      "2023-04-27    0.032028\n",
      "2023-04-28    0.007972\n",
      "Name: Close, dtype: float64\n",
      "\n",
      "Volatility: 0.2616767875604266\n",
      "\n",
      "Cumulative Returns:\n",
      "Date\n",
      "2023-04-24    8.104038\n",
      "2023-04-25    7.898869\n",
      "2023-04-26    8.543457\n",
      "2023-04-27    8.849111\n",
      "2023-04-28    8.927625\n",
      "Name: Close, dtype: float64\n",
      "\n",
      "Mean Cumulative Return: 2.3625488355873974\n",
      "\n",
      "Max Drawdown:\n",
      "Date\n",
      "2023-04-24   -0.375565\n",
      "2023-04-25   -0.375565\n",
      "2023-04-26   -0.375565\n",
      "2023-04-27   -0.375565\n",
      "2023-04-28   -0.375565\n",
      "Name: Close, dtype: float64\n",
      "\n",
      "Sharpe Ratio:\n",
      "0.790447018897123\n",
      "\n",
      "Sortino Ratio:\n",
      "1.1068365902917414\n"
     ]
    },
    {
     "name": "stderr",
     "output_type": "stream",
     "text": [
      "\n"
     ]
    }
   ],
   "source": [
    "calculate_list(\"MSFT\")"
   ]
  },
  {
   "cell_type": "code",
   "execution_count": 12,
   "id": "fac602eb",
   "metadata": {},
   "outputs": [
    {
     "name": "stderr",
     "output_type": "stream",
     "text": [
      "[*********************100%%**********************]  1 of 1 completed"
     ]
    },
    {
     "name": "stdout",
     "output_type": "stream",
     "text": [
      "\n",
      "\n",
      "\n",
      " AMZN :\n",
      "\n",
      "Daily Returns:\n",
      "Date\n",
      "2023-04-24   -0.007012\n",
      "2023-04-25   -0.034272\n",
      "2023-04-26    0.023496\n",
      "2023-04-27    0.046104\n",
      "2023-04-28   -0.039792\n",
      "Name: Close, dtype: float64\n",
      "\n",
      "Volatility: 0.3317989428965108\n",
      "\n",
      "Cumulative Returns:\n",
      "Date\n",
      "2023-04-24    14.864077\n",
      "2023-04-25    14.320388\n",
      "2023-04-26    14.680359\n",
      "2023-04-27    15.403286\n",
      "2023-04-28    14.750559\n",
      "Name: Close, dtype: float64\n",
      "\n",
      "Mean Cumulative Return: 7.943646929794658\n",
      "\n",
      "Max Drawdown:\n",
      "Date\n",
      "2023-04-24   -0.561453\n",
      "2023-04-25   -0.561453\n",
      "2023-04-26   -0.561453\n",
      "2023-04-27   -0.561453\n",
      "2023-04-28   -0.561453\n",
      "Name: Close, dtype: float64\n",
      "\n",
      "Sharpe Ratio:\n",
      "0.7902636489869485\n",
      "\n",
      "Sortino Ratio:\n",
      "1.1284989544839084\n"
     ]
    },
    {
     "name": "stderr",
     "output_type": "stream",
     "text": [
      "\n"
     ]
    }
   ],
   "source": [
    "calculate_list(\"AMZN\")"
   ]
  },
  {
   "cell_type": "code",
   "execution_count": 13,
   "id": "cb7ccd12",
   "metadata": {},
   "outputs": [
    {
     "name": "stderr",
     "output_type": "stream",
     "text": [
      "[*********************100%%**********************]  1 of 1 completed"
     ]
    },
    {
     "name": "stdout",
     "output_type": "stream",
     "text": [
      "\n",
      "\n",
      "\n",
      " GOOGL :\n",
      "\n",
      "Daily Returns:\n",
      "Date\n",
      "2023-04-24    0.005313\n",
      "2023-04-25   -0.020006\n",
      "2023-04-26   -0.001348\n",
      "2023-04-27    0.037412\n",
      "2023-04-28   -0.002324\n",
      "Name: Close, dtype: float64\n",
      "\n",
      "Volatility: 0.2729762706976209\n",
      "\n",
      "Cumulative Returns:\n",
      "Date\n",
      "2023-04-24    5.756380\n",
      "2023-04-25    5.621214\n",
      "2023-04-26    5.612288\n",
      "2023-04-27    5.859667\n",
      "2023-04-28    5.843728\n",
      "Name: Close, dtype: float64\n",
      "\n",
      "Mean Cumulative Return: 2.2106113234493354\n",
      "\n",
      "Max Drawdown:\n",
      "Date\n",
      "2023-04-24   -0.443201\n",
      "2023-04-25   -0.443201\n",
      "2023-04-26   -0.443201\n",
      "2023-04-27   -0.443201\n",
      "2023-04-28   -0.443201\n",
      "Name: Close, dtype: float64\n",
      "\n",
      "Sharpe Ratio:\n",
      "0.6657471347330977\n",
      "\n",
      "Sortino Ratio:\n",
      "0.9299480203497367\n"
     ]
    },
    {
     "name": "stderr",
     "output_type": "stream",
     "text": [
      "\n"
     ]
    }
   ],
   "source": [
    "calculate_list(\"GOOGL\")"
   ]
  },
  {
   "cell_type": "code",
   "execution_count": 14,
   "id": "64fe84eb",
   "metadata": {},
   "outputs": [
    {
     "name": "stderr",
     "output_type": "stream",
     "text": [
      "[*********************100%%**********************]  1 of 1 completed"
     ]
    },
    {
     "name": "stdout",
     "output_type": "stream",
     "text": [
      "\n",
      "\n",
      "\n",
      " TSLA :\n",
      "\n",
      "Daily Returns:\n",
      "Date\n",
      "2023-04-24   -0.015326\n",
      "2023-04-25   -0.011566\n",
      "2023-04-26   -0.043070\n",
      "2023-04-27    0.041886\n",
      "2023-04-28    0.025719\n",
      "Name: Close, dtype: float64\n",
      "\n",
      "Volatility: 0.5738070034042114\n",
      "\n",
      "Cumulative Returns:\n",
      "Date\n",
      "2023-04-24    101.061514\n",
      "2023-04-25     99.881101\n",
      "2023-04-26     95.536188\n",
      "2023-04-27     99.579722\n",
      "2023-04-28    102.166575\n",
      "Name: Close, dtype: float64\n",
      "\n",
      "Mean Cumulative Return: 37.765095754732876\n",
      "\n",
      "Max Drawdown:\n",
      "Date\n",
      "2023-04-24   -0.736322\n",
      "2023-04-25   -0.736322\n",
      "2023-04-26   -0.736322\n",
      "2023-04-27   -0.736322\n",
      "2023-04-28   -0.736322\n",
      "Name: Close, dtype: float64\n",
      "\n",
      "Sharpe Ratio:\n",
      "0.9161881845071592\n",
      "\n",
      "Sortino Ratio:\n",
      "1.340564761336996\n"
     ]
    },
    {
     "name": "stderr",
     "output_type": "stream",
     "text": [
      "\n"
     ]
    }
   ],
   "source": [
    "calculate_list(\"TSLA\")"
   ]
  }
 ],
 "metadata": {
  "kernelspec": {
   "display_name": "Python 3 (ipykernel)",
   "language": "python",
   "name": "python3"
  },
  "language_info": {
   "codemirror_mode": {
    "name": "ipython",
    "version": 3
   },
   "file_extension": ".py",
   "mimetype": "text/x-python",
   "name": "python",
   "nbconvert_exporter": "python",
   "pygments_lexer": "ipython3",
   "version": "3.12.4"
  }
 },
 "nbformat": 4,
 "nbformat_minor": 5
}
