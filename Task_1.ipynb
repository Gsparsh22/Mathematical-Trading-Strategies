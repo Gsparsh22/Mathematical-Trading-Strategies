{
 "cells": [
  {
   "cell_type": "code",
   "execution_count": null,
   "id": "67578716",
   "metadata": {},
   "outputs": [],
   "source": [
    "import numpy as np\n",
    "import pandas as pd\n",
    "import yfinance as yf"
   ]
  },
  {
   "cell_type": "code",
   "execution_count": null,
   "id": "c6453e06",
   "metadata": {},
   "outputs": [],
   "source": [
    "data=[None]*50\n",
    "\n",
    "def calculate_metrics(index,i):\n",
    "    index_data = yf.download(index, start='2010-01-01', end='2023-05-01')\n",
    "    index_close_prices = index_data['Close']\n",
    "    index_daily_returns = index_close_prices.pct_change()\n",
    "    index_volatility = np.sqrt(252) * index_daily_returns.std()\n",
    "    index_cumulative_returns = (1 + index_daily_returns).cumprod() - 1\n",
    "    index_cumulative_return_mean = index_cumulative_returns.mean()\n",
    "    index_roll_max = index_close_prices.cummax()\n",
    "    index_daily_drawdown = index_close_prices / index_roll_max - 1\n",
    "    index_max_drawdown = index_daily_drawdown.cummin()\n",
    "    risk_free = 0.0\n",
    "    index_sharpe_ratio = np.sqrt(252) * ((index_daily_returns.mean() - risk_free) / index_daily_returns.std())\n",
    "    index_downside_returns = index_daily_returns[index_daily_returns < 0]\n",
    "    index_sortino_ratio = np.sqrt(252) * ((index_daily_returns.mean() - risk_free) / index_downside_returns.std())\n",
    "    \n",
    "    data[i*5+0]=index_cumulative_returns.mean()\n",
    "    data[i*5+1]=index_volatility\n",
    "    data[i*5+2]=index_sharpe_ratio\n",
    "    data[i*5+3]=index_sortino_ratio\n",
    "    data[i*5+4]=index_max_drawdown.mean()\n",
    "\n"
   ]
  },
  {
   "cell_type": "code",
   "execution_count": null,
   "id": "26099977",
   "metadata": {},
   "outputs": [],
   "source": [
    "\n",
    "calculate_metrics(\"^GSPC\",0)\n",
    "calculate_metrics(\"^FTSE\",1)\n",
    "calculate_metrics(\"^N225\",2)\n",
    "calculate_metrics(\"NDX\",3)\n",
    "calculate_metrics(\"^HSI\",4)\n",
    "\n",
    "print(\"Indices                 GSPC               FTSE 100           Nikkei 225              NDX          Hang Seng Index\")\n",
    "print(\"Cumulative returns\",data[0],data[5],data[10],data[15],data[20])\n",
    "print(\"Volatility        \",data[1],data[6],data[11],data[16],data[21])\n",
    "print(\"Sharpe Ratio      \",data[2],data[7],data[12],data[17],data[22])\n",
    "print(\"Sortiono Ratio    \",data[3],data[8],data[13],data[18],data[23])\n",
    "print(\"Max Drawdown      \",data[4],data[9],data[14],data[19],data[24])\n",
    "\n",
    "calculate_metrics(\"AAPL\",5)\n",
    "calculate_metrics(\"MSFT\",6)\n",
    "calculate_metrics(\"AMZN\",7)\n",
    "calculate_metrics(\"GOOGL\",8)\n",
    "calculate_metrics(\"TSLA\",9)\n",
    "\n",
    "print(\"Equity                 APPLE               MICROSOFT           AMAZON              GOOGLE          TESLA\")\n",
    "print(\"Cumulative returns\",data[25],data[30],data[35],data[40],data[45])\n",
    "print(\"Volatility        \",data[26],data[31],data[36],data[41],data[46])\n",
    "print(\"Sharpe Ratio      \",data[27],data[32],data[37],data[42],data[47])\n",
    "print(\"Sortiono Ratio    \",data[28],data[33],data[38],data[43],data[48])\n",
    "print(\"Max Drawdown      \",data[29],data[34],data[39],data[44],data[49])"
   ]
  },
  {
   "cell_type": "code",
   "execution_count": null,
   "id": "a871114b",
   "metadata": {},
   "outputs": [],
   "source": [
    "def calculate_list(index):\n",
    "\n",
    "    index_data = yf.download(index, start='2010-01-01', end='2023-05-01')\n",
    "    \n",
    "    index_close_prices = index_data['Close']\n",
    "    \n",
    "    index_daily_returns = index_close_prices.pct_change().dropna()\n",
    "    \n",
    "    index_volatility = np.sqrt(252) * index_daily_returns.std()\n",
    "    \n",
    "    index_cumulative_returns = (1 + index_daily_returns).cumprod().dropna() - 1\n",
    "    index_cumulative_return_mean = index_cumulative_returns.mean()\n",
    "    \n",
    "    index_roll_max = index_close_prices.cummax()\n",
    "    index_daily_drawdown = index_close_prices / index_roll_max - 1\n",
    "    index_max_drawdown = index_daily_drawdown.cummin()\n",
    "    \n",
    "    risk_free = 0.0\n",
    "    \n",
    "    sharpe_ratio = np.sqrt(252) * (index_daily_returns.mean() - risk_free) / index_daily_returns.std()\n",
    "    \n",
    "    index_downside_returns = index_daily_returns[index_daily_returns < 0]\n",
    "    sortino_ratio = np.sqrt(252) * (index_daily_returns.mean() - risk_free) / index_downside_returns.std()\n",
    "    \n",
    "    print(\"\\n\\n\\n\", index, \":\\n\")\n",
    "    print(\"Daily Returns:\")\n",
    "    print(index_daily_returns.tail())\n",
    "    print(\"\\nVolatility:\", index_volatility)\n",
    "    print(\"\\nCumulative Returns:\")\n",
    "    print(index_cumulative_returns.tail())\n",
    "    print(\"\\nMean Cumulative Return:\", index_cumulative_return_mean)\n",
    "    print(\"\\nMax Drawdown:\")\n",
    "    print(index_max_drawdown.tail())\n",
    "    print(\"\\nSharpe Ratio:\")\n",
    "    print(sharpe_ratio)\n",
    "    print(\"\\nSortino Ratio:\")\n",
    "    print(sortino_ratio)\n",
    "\n"
   ]
  },
  {
   "cell_type": "code",
   "execution_count": null,
   "id": "b7c1d727",
   "metadata": {},
   "outputs": [],
   "source": [
    "calculate_list(\"^GSPC\")"
   ]
  },
  {
   "cell_type": "code",
   "execution_count": null,
   "id": "a91809c0",
   "metadata": {},
   "outputs": [],
   "source": [
    "calculate_list(\"^FTSE\")\n"
   ]
  },
  {
   "cell_type": "code",
   "execution_count": null,
   "id": "2984dc29",
   "metadata": {},
   "outputs": [],
   "source": [
    "calculate_list(\"^N225\")"
   ]
  },
  {
   "cell_type": "code",
   "execution_count": null,
   "id": "e220b6d1",
   "metadata": {},
   "outputs": [],
   "source": [
    "calculate_list(\"NDX\")"
   ]
  },
  {
   "cell_type": "code",
   "execution_count": null,
   "id": "9e5f6d0c",
   "metadata": {},
   "outputs": [],
   "source": [
    "calculate_list(\"^HSI\")"
   ]
  },
  {
   "cell_type": "code",
   "execution_count": null,
   "id": "f94380f6",
   "metadata": {},
   "outputs": [],
   "source": [
    "calculate_list(\"AAPL\")"
   ]
  },
  {
   "cell_type": "code",
   "execution_count": null,
   "id": "65992dfa",
   "metadata": {},
   "outputs": [],
   "source": [
    "calculate_list(\"MSFT\")"
   ]
  },
  {
   "cell_type": "code",
   "execution_count": null,
   "id": "fac602eb",
   "metadata": {},
   "outputs": [],
   "source": [
    "calculate_list(\"AMZN\")"
   ]
  },
  {
   "cell_type": "code",
   "execution_count": null,
   "id": "cb7ccd12",
   "metadata": {},
   "outputs": [],
   "source": [
    "calculate_list(\"GOOGL\")"
   ]
  },
  {
   "cell_type": "code",
   "execution_count": null,
   "id": "64fe84eb",
   "metadata": {},
   "outputs": [],
   "source": [
    "calculate_list(\"TSLA\")"
   ]
  }
 ],
 "metadata": {
  "kernelspec": {
   "display_name": "Python 3 (ipykernel)",
   "language": "python",
   "name": "python3"
  },
  "language_info": {
   "codemirror_mode": {
    "name": "ipython",
    "version": 3
   },
   "file_extension": ".py",
   "mimetype": "text/x-python",
   "name": "python",
   "nbconvert_exporter": "python",
   "pygments_lexer": "ipython3",
   "version": "3.12.4"
  }
 },
 "nbformat": 4,
 "nbformat_minor": 5
}
